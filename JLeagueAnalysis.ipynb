{
 "cells": [
  {
   "cell_type": "code",
   "execution_count": 397,
   "metadata": {},
   "outputs": [],
   "source": [
    "import pandas as pd\n",
    "import matplotlib.pyplot as plt\n",
    "import numpy as np\n",
    "from sklearn.feature_extraction.text import TfidfVectorizer\n",
    "from category_encoders import OrdinalEncoder, OneHotEncoder, TargetEncoder,CountEncoder\n",
    "from tqdm import tqdm_notebook as tqdm\n",
    "from sklearn.ensemble import GradientBoostingClassifier, GradientBoostingRegressor\n",
    "from sklearn.preprocessing import StandardScaler\n",
    "\n",
    "from sklearn.metrics import roc_auc_score, mean_squared_error, mean_squared_log_error, log_loss\n",
    "from sklearn.model_selection import StratifiedKFold,KFold\n",
    "import time\n",
    "import random\n",
    "\n",
    "%matplotlib inline\n",
    "import lightgbm as lgb\n",
    "from lightgbm import LGBMClassifier,LGBMRegressor\n",
    "from sklearn.linear_model import LinearRegression, RidgeCV, LassoCV, ElasticNetCV,Lasso,Ridge,ElasticNet\n",
    "from sklearn.svm import SVR"
   ]
  },
  {
   "cell_type": "code",
   "execution_count": 398,
   "metadata": {},
   "outputs": [],
   "source": [
    "def cleaning_data(df):\n",
    "    cats = []\n",
    "    for col in df.columns:\n",
    "        if df[col].dtype == 'object':\n",
    "            cats.append(col)      \n",
    "#             print(col, df[col].nunique())\n",
    "    \n",
    "    num_cats=[]\n",
    "    for col in df.columns:\n",
    "        if df[col].dtype != 'object':\n",
    "            num_cats.append(col)      \n",
    "#             print(col, df[col].nunique())\n",
    "    \n",
    "    num_cols=[\n",
    "     'prev3_div',\n",
    "     'prev2_div',\n",
    "     'prev1_div',\n",
    "     'prev3_num_played',\n",
    "     'prev2_num_played',\n",
    "     'prev1_num_played',\n",
    "     'prev3_scores',\n",
    "     'prev2_scores',\n",
    "     'prev1_scores',\n",
    "     'prev3_time_played',\n",
    "     'prev2_time_played',\n",
    "     'prev1_time_played',\n",
    "     'BMI']\n",
    "    \n",
    "    cat_cols=['team',\n",
    "     'name',\n",
    "     'position',\n",
    "     'birthdate',\n",
    "     'is_youth',\n",
    "     'nationality',\n",
    "     'prev3_team',\n",
    "     'prev2_team',\n",
    "     'prev1_team',\n",
    "             ]\n",
    "    df['BMI'] = df['weight'].astype('float')/df['height'].astype('float')**2*10000\n",
    "    df[cat_cols] = df[cat_cols].replace('-','null')\n",
    "    df[num_cols] = df[num_cols].replace('-','0') \n",
    "\n",
    "    scaler = StandardScaler()\n",
    "    df[num_cats] = scaler.fit_transform(df[num_cats])\n",
    "    \n",
    "    df[num_cols] = df[num_cols].fillna(0)\n",
    "    df[num_cols] = df[num_cols].astype(int)\n",
    "    df[num_cols] = scaler.fit_transform(df[num_cols])\n",
    "\n",
    "    df['salary'] = df['salary'].replace('-','0')\n",
    "    df['salary'] = df['salary'].astype(int)\n",
    "    df['salary'] = df['salary'].fillna(df['salary'].median())\n",
    "    df['salary'] = np.log1p(df['salary'])\n",
    "    \n",
    "    oe = OrdinalEncoder(cols=cat_cols, return_df=False)\n",
    "    df[cat_cols] = oe.fit_transform(df[cat_cols])\n",
    "    \n",
    "    return df"
   ]
  },
  {
   "cell_type": "code",
   "execution_count": 399,
   "metadata": {},
   "outputs": [],
   "source": [
    "def count_mis(df):\n",
    "    df['missing_count'] = df.isnull().sum(axis=1)\n",
    "    return df\n",
    "\n",
    "def mis_pattern(df):\n",
    "    m = df.isnull().sum()\n",
    "    cols_with_missing = list(m[m != 0].index)\n",
    "\n",
    "    df['missing_pattern'] = 0\n",
    "    for col in cols_with_missing:\n",
    "        df['missing_pattern'] *= 2\n",
    "        df.loc[df[col].isnull(), 'missing_pattern'] += 1\n",
    "    \n",
    "    df['missing_pattern'] *= 1e-16\n",
    "    return df"
   ]
  },
  {
   "cell_type": "code",
   "execution_count": 400,
   "metadata": {},
   "outputs": [],
   "source": [
    "def mung_data(df):\n",
    "    \n",
    "    pass"
   ]
  },
  {
   "cell_type": "code",
   "execution_count": 401,
   "metadata": {},
   "outputs": [],
   "source": [
    "def modeling(df):\n",
    "    pass"
   ]
  },
  {
   "cell_type": "code",
   "execution_count": 402,
   "metadata": {},
   "outputs": [],
   "source": [
    "def output(df):\n",
    "    pass"
   ]
  },
  {
   "cell_type": "code",
   "execution_count": 403,
   "metadata": {},
   "outputs": [
    {
     "name": "stderr",
     "output_type": "stream",
     "text": [
      "C:\\Users\\user\\Anaconda3\\lib\\site-packages\\pandas\\core\\frame.py:3997: SettingWithCopyWarning: \n",
      "A value is trying to be set on a copy of a slice from a DataFrame\n",
      "\n",
      "See the caveats in the documentation: https://pandas.pydata.org/pandas-docs/stable/user_guide/indexing.html#returning-a-view-versus-a-copy\n",
      "  errors=errors,\n"
     ]
    }
   ],
   "source": [
    "if __name__ == \"__main__\":\n",
    "    data1 = pd.read_csv('train_2016.csv')\n",
    "    data2 = pd.read_csv('train_2017.csv')\n",
    "    data3 = pd.read_csv('train_2018.csv')\n",
    "    \n",
    "    concatenate_data = pd.concat([data1,data2,data3])\n",
    "    \n",
    "    train = concatenate_data.copy()\n",
    "    test = pd.read_csv('test.csv')\n",
    "    test['time_played']=-999\n",
    "    \n",
    "    df_all = pd.concat([concatenate_data,test])\n",
    "    train_y = df_all['time_played']\n",
    "    df_all.drop(['id','No','time_played'],axis=1,inplace=True)\n",
    "    \n",
    "    df_all = count_mis(df_all)\n",
    "    df_all = mis_pattern(df_all)\n",
    "    df_cleaned = cleaning_data(df_all)\n",
    "    df_cleaned['time_played']=train_y\n",
    "    df_cleaned.fillna(-1,inplace=True)\n",
    "    \n",
    "    train_x = df_cleaned[df_cleaned['time_played']!=-999]\n",
    "    test_x =df_cleaned[df_cleaned['time_played']==-999]\n",
    "    train_y = train_x['time_played']\n",
    "    \n",
    "    train_x.drop('time_played',axis=1,inplace=True)\n",
    "    test_x.drop('time_played',axis=1,inplace=True)\n",
    "    "
   ]
  },
  {
   "cell_type": "code",
   "execution_count": 404,
   "metadata": {},
   "outputs": [],
   "source": [
    "params = {\"objective\": 'regression',\n",
    "          \"boosting_type\": \"gbdt\",\n",
    "          \"learning_rate\": 0.01,\n",
    "          \"num_leaves\": 50,\n",
    "          \"verbosity\": 0,\n",
    "          \"drop_rate\": 0.1,\n",
    "          \"is_unbalance\": False,\n",
    "          \"max_drop\": 50,\n",
    "          \"min_child_samples\": 20,\n",
    "          \"min_child_weight\": 1e-3,\n",
    "          \"min_split_gain\": 0.0,\n",
    "          \"subsample\": 1.0,\n",
    "          \"metric\": \"rmse\",\n",
    "    }"
   ]
  },
  {
   "cell_type": "code",
   "execution_count": 405,
   "metadata": {},
   "outputs": [
    {
     "name": "stdout",
     "output_type": "stream",
     "text": [
      "Empty DataFrame\n",
      "Columns: []\n",
      "Index: []\n"
     ]
    },
    {
     "name": "stderr",
     "output_type": "stream",
     "text": [
      "C:\\Users\\user\\Anaconda3\\lib\\site-packages\\ipykernel_launcher.py:11: TqdmDeprecationWarning: This function will be removed in tqdm==5.0.0\n",
      "Please use `tqdm.notebook.tqdm` instead of `tqdm.tqdm_notebook`\n",
      "  # This is added back by InteractiveShellApp.init_path()\n"
     ]
    },
    {
     "data": {
      "application/vnd.jupyter.widget-view+json": {
       "model_id": "1b7e8f8355634324b070cbb7e62609cc",
       "version_major": 2,
       "version_minor": 0
      },
      "text/plain": [
       "HBox(children=(FloatProgress(value=1.0, bar_style='info', max=1.0), HTML(value='')))"
      ]
     },
     "metadata": {},
     "output_type": "display_data"
    },
    {
     "name": "stdout",
     "output_type": "stream",
     "text": [
      "Training until validation scores don't improve for 100 rounds\n",
      "[100]\tvalid_0's rmse: 796.985\n",
      "[200]\tvalid_0's rmse: 764.898\n",
      "[300]\tvalid_0's rmse: 762.046\n",
      "Early stopping, best iteration is:\n",
      "[299]\tvalid_0's rmse: 761.888\n",
      "トレーニング時間1.7889719009399414秒\n",
      "CV Score of Fold_0 is 761.887612\n",
      "Training until validation scores don't improve for 100 rounds\n",
      "[100]\tvalid_0's rmse: 867.135\n",
      "[200]\tvalid_0's rmse: 838.25\n",
      "[300]\tvalid_0's rmse: 834.147\n",
      "[400]\tvalid_0's rmse: 832.633\n",
      "Early stopping, best iteration is:\n",
      "[340]\tvalid_0's rmse: 830.773\n",
      "トレーニング時間1.7400004863739014秒\n",
      "CV Score of Fold_1 is 830.772577\n",
      "Training until validation scores don't improve for 100 rounds\n",
      "[100]\tvalid_0's rmse: 846.793\n",
      "[200]\tvalid_0's rmse: 843.344\n",
      "Early stopping, best iteration is:\n",
      "[147]\tvalid_0's rmse: 836.558\n",
      "トレーニング時間0.940460205078125秒\n",
      "CV Score of Fold_2 is 836.557684\n",
      "Training until validation scores don't improve for 100 rounds\n",
      "[100]\tvalid_0's rmse: 891.187\n",
      "[200]\tvalid_0's rmse: 866.853\n",
      "[300]\tvalid_0's rmse: 860.059\n",
      "[400]\tvalid_0's rmse: 859.847\n",
      "[500]\tvalid_0's rmse: 862.25\n",
      "Early stopping, best iteration is:\n",
      "[412]\tvalid_0's rmse: 859.211\n",
      "トレーニング時間2.123779535293579秒\n",
      "CV Score of Fold_3 is 859.210749\n",
      "Training until validation scores don't improve for 100 rounds\n",
      "[100]\tvalid_0's rmse: 855.657\n",
      "[200]\tvalid_0's rmse: 841.97\n",
      "Early stopping, best iteration is:\n",
      "[161]\tvalid_0's rmse: 837.244\n",
      "トレーニング時間0.9644465446472168秒\n",
      "CV Score of Fold_4 is 837.243853\n",
      "\n",
      "total:7.573649168014526 sec\n"
     ]
    }
   ],
   "source": [
    "scores = []\n",
    "total_time=0\n",
    "r_seed=10\n",
    "\n",
    "predictions = pd.DataFrame()\n",
    "predictions = predictions.fillna(0)\n",
    "print(predictions)\n",
    "\n",
    "kf = KFold(n_splits=5)\n",
    "\n",
    "for i, (train_ix, test_ix) in tqdm(enumerate(kf.split(train_x, train_y))):\n",
    "    t0 = time.time()\n",
    "    X_train_, y_train_ = train_x.values[train_ix], train_y.values[train_ix]\n",
    "    X_val, y_val = train_x.values[test_ix], train_y.values[test_ix]\n",
    "        \n",
    "    ##define model\n",
    "    lr=LGBMRegressor(n_estimators=9999, random_state=r_seed,max_depth=15,**params)\n",
    "    \n",
    "    ##modeling\n",
    "    lr.fit(X_train_, y_train_, early_stopping_rounds=100, eval_metric='rmse', eval_set=[(X_val, y_val)], verbose=100)\n",
    "    \n",
    "    ##predict test data\n",
    "    y_pred_val = lr.predict(X_val)\n",
    "    \n",
    "    #\n",
    "    score = mean_squared_error(y_val, y_pred_val)**0.5\n",
    "    scores.append(score)\n",
    "    \n",
    "    y_pred=lr.predict(test_x)\n",
    "    predictions = pd.concat([predictions,pd.DataFrame(y_pred,columns=['pred'+str(i)])],axis=1)\n",
    "    print('トレーニング時間{}秒'.format(time.time() - t0))\n",
    "    \n",
    "    total_time += time.time()-t0\n",
    "    print('CV Score of Fold_%d is %f' % (i, score))\n",
    "    \n",
    "    r_seed=random.randint(1,100)\n",
    "\n",
    "print('total:{} sec'.format(total_time))"
   ]
  },
  {
   "cell_type": "code",
   "execution_count": 406,
   "metadata": {},
   "outputs": [
    {
     "data": {
      "text/plain": [
       "825.1344948047187"
      ]
     },
     "execution_count": 406,
     "metadata": {},
     "output_type": "execute_result"
    }
   ],
   "source": [
    "np.mean(scores)"
   ]
  },
  {
   "cell_type": "code",
   "execution_count": 407,
   "metadata": {},
   "outputs": [],
   "source": [
    "pred_mean = predictions.mean(axis=1)"
   ]
  },
  {
   "cell_type": "code",
   "execution_count": 408,
   "metadata": {},
   "outputs": [
    {
     "data": {
      "text/plain": [
       "0      1400.305000\n",
       "1      1913.771598\n",
       "2      1371.947352\n",
       "3       441.488985\n",
       "4      1517.297091\n",
       "          ...     \n",
       "483     722.985138\n",
       "484     392.392725\n",
       "485    1925.415334\n",
       "486    1337.517813\n",
       "487     721.838465\n",
       "Length: 488, dtype: float64"
      ]
     },
     "execution_count": 408,
     "metadata": {},
     "output_type": "execute_result"
    }
   ],
   "source": [
    "pred_mean"
   ]
  },
  {
   "cell_type": "code",
   "execution_count": 409,
   "metadata": {},
   "outputs": [],
   "source": [
    "submission = pd.read_csv('sample_submission.csv')"
   ]
  },
  {
   "cell_type": "code",
   "execution_count": 410,
   "metadata": {},
   "outputs": [],
   "source": [
    "submission['time_played'] = pred_mean"
   ]
  },
  {
   "cell_type": "code",
   "execution_count": 411,
   "metadata": {},
   "outputs": [],
   "source": [
    "submission['time_played'] =submission['time_played'].round()"
   ]
  },
  {
   "cell_type": "code",
   "execution_count": 412,
   "metadata": {},
   "outputs": [],
   "source": [
    "submission.to_csv('submit_data.csv',index=False)"
   ]
  },
  {
   "cell_type": "code",
   "execution_count": 413,
   "metadata": {},
   "outputs": [
    {
     "data": {
      "text/plain": [
       "<matplotlib.axes._subplots.AxesSubplot at 0x1d9a3c77908>"
      ]
     },
     "execution_count": 413,
     "metadata": {},
     "output_type": "execute_result"
    },
    {
     "data": {
      "image/png": "[encoded data removed]",
      "text/plain": [
       "<Figure size 432x288 with 1 Axes>"
      ]
     },
     "metadata": {
      "needs_background": "light"
     },
     "output_type": "display_data"
    }
   ],
   "source": [
    "df_cleaned.salary.hist(bins=100)"
   ]
  },
  {
   "cell_type": "code",
   "execution_count": null,
   "metadata": {},
   "outputs": [],
   "source": []
  }
 ],
 "metadata": {
  "kernelspec": {
   "display_name": "Python 3",
   "language": "python",
   "name": "python3"
  },
  "language_info": {
   "codemirror_mode": {
    "name": "ipython",
    "version": 3
   },
   "file_extension": ".py",
   "mimetype": "text/x-python",
   "name": "python",
   "nbconvert_exporter": "python",
   "pygments_lexer": "ipython3",
   "version": "3.7.1"
  }
 },
 "nbformat": 4,
 "nbformat_minor": 4
}
